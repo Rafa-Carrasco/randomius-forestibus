{
    "cells": [
        {
            "cell_type": "markdown",
            "metadata": {},
            "source": [
                "# Explore here"
            ]
        },
        {
            "cell_type": "code",
            "execution_count": null,
            "metadata": {},
            "outputs": [],
            "source": [
                "# Your code here\n",
                "\n",
                "import os\n",
                "import pandas as pd\n",
                "import requests\n",
                "\n",
                "# 1. descargar data\n",
                "\n",
                "# url = \"https://raw.githubusercontent.com/Rafa-Carrasco/arbol-de-regresion/main/data/processed/clean_diabetes_test.csv\"\n",
                "# url2 = \"https://raw.githubusercontent.com/Rafa-Carrasco/arbol-de-regresion/main/data/processed/clean_diabetes_train.csv\"\n",
                "\n",
                "# respuesta = requests.get(url)\n",
                "# nombre_archivo = \"clean_diabetes_test.csv\"\n",
                "# with open(nombre_archivo, 'wb') as archivo:\n",
                "#     archivo.write(respuesta.content)\n",
                "\n",
                "# respuesta = requests.get(url2)\n",
                "# nombre_archivo = \"clean_diabetes_train.csv\"\n",
                "# with open(nombre_archivo, 'wb') as archivo:\n",
                "#     archivo.write(respuesta.content)\n",
                "\n",
                "# 2. convertir csv en dataframe\n",
                "\n",
                "X_tra = pd.read_csv(\"../data/processed/clean_diabetes_train.csv\")\n",
                "X_tes = pd.read_csv(\"../data/processed/clean_diabetes_test.csv\")\n",
                "\n",
                "\n",
                "# Separar las características y la variable objetivo para el conjunto de entrenamiento\n",
                "X_train = X_tra.drop(columns='Outcome')\n",
                "y_train = X_tra['Outcome']\n",
                "\n",
                "# Separar las características y la variable objetivo para el conjunto de prueba\n",
                "X_test = X_tes.drop(columns='Outcome')\n",
                "y_test = X_tes['Outcome']\n",
                "\n",
                "\n",
                "\n",
                "\n"
            ]
        },
        {
            "cell_type": "code",
            "execution_count": null,
            "metadata": {},
            "outputs": [],
            "source": [
                "# 3. iniciar y entrenar el modelo CLASIFICACION\n",
                "\n",
                "from sklearn.ensemble import RandomForestClassifier\n",
                "\n",
                "model = RandomForestClassifier(random_state = 42)\n",
                "model.fit(X_train, y_train)"
            ]
        },
        {
            "cell_type": "code",
            "execution_count": null,
            "metadata": {},
            "outputs": [],
            "source": [
                "import matplotlib.pyplot as plt\n",
                "from sklearn import tree\n",
                "\n",
                "fig, axis = plt.subplots(2, 2, figsize = (15, 15))\n",
                "\n",
                "# We show the first 4 trees out of the 100 generated (default)\n",
                "tree.plot_tree(model.estimators_[0], ax = axis[0, 0], feature_names = list(X_train.columns), class_names = [\"0\", \"1\", \"2\"], filled = True)\n",
                "tree.plot_tree(model.estimators_[1], ax = axis[0, 1], feature_names = list(X_train.columns), class_names = [\"0\", \"1\", \"2\"], filled = True)\n",
                "tree.plot_tree(model.estimators_[2], ax = axis[1, 0], feature_names = list(X_train.columns), class_names = [\"0\", \"1\", \"2\"], filled = True)\n",
                "tree.plot_tree(model.estimators_[3], ax = axis[1, 1], feature_names = list(X_train.columns), class_names = [\"0\", \"1\", \"2\"], filled = True)\n",
                "\n",
                "plt.show()"
            ]
        },
        {
            "cell_type": "code",
            "execution_count": null,
            "metadata": {},
            "outputs": [],
            "source": [
                "y_pred = model.predict(X_test)\n",
                "y_pred"
            ]
        },
        {
            "cell_type": "code",
            "execution_count": null,
            "metadata": {},
            "outputs": [],
            "source": [
                "from sklearn.metrics import accuracy_score\n",
                "\n",
                "accuracy_score(y_test, y_pred)"
            ]
        },
        {
            "cell_type": "code",
            "execution_count": null,
            "metadata": {},
            "outputs": [],
            "source": [
                "from sklearn.ensemble import RandomForestClassifier\n",
                "from sklearn.metrics import accuracy_score, classification_report\n",
                "\n",
                "# optimizacion RF classifier\n",
                "rfc = RandomForestClassifier(\n",
                "        n_estimators=28, \n",
                "        max_depth=10, \n",
                "        min_samples_split=2,\n",
                "        min_samples_leaf=20,\n",
                "        max_features=10,\n",
                "        random_state=42\n",
                "    )\n",
                "\n",
                "rfc.fit(X_train, y_train)\n",
                "    \n",
                "# Hacer predicciones en el conjunto de prueba\n",
                "y_pred = rfc.predict(X_test)\n",
                "    \n",
                "# Evaluar el rendimiento del modelo\n",
                "accuracy = accuracy_score(y_test, y_pred)\n",
                "print(f\"Accuracy: {accuracy}\")\n",
                "print(\"Classification Report:\")\n",
                "print(classification_report(y_test, y_pred))\n",
                "\n",
                "from pickle import dump\n",
                "dump(model, open(\"RandomForestClassifier_tweaked_42.sav\", \"wb\"))"
            ]
        },
        {
            "cell_type": "code",
            "execution_count": null,
            "metadata": {},
            "outputs": [],
            "source": [
                "# regression random forest\n",
                "\n",
                "from sklearn.ensemble import RandomForestRegressor\n",
                "\n",
                "model = RandomForestRegressor(random_state = 42)\n",
                "model.fit(X_train, y_train) "
            ]
        },
        {
            "cell_type": "code",
            "execution_count": null,
            "metadata": {},
            "outputs": [],
            "source": [
                "y_pred = model.predict(X_test)\n",
                "y_pred"
            ]
        },
        {
            "cell_type": "code",
            "execution_count": null,
            "metadata": {},
            "outputs": [],
            "source": [
                "from sklearn.metrics import mean_squared_error, mean_absolute_error\n",
                "\n",
                "mse = mean_squared_error(y_test, y_pred)\n",
                "mae = mean_absolute_error(y_test, y_pred)\n",
                "\n",
                "print(f\"MSE: {mse}\")\n",
                "print(f\"MAE: {mae}\")\n",
                "\n"
            ]
        },
        {
            "cell_type": "code",
            "execution_count": null,
            "metadata": {},
            "outputs": [],
            "source": [
                "# optimizar random forest regression\n",
                "from sklearn.ensemble import RandomForestRegressor\n",
                "\n",
                "rfr = RandomForestRegressor(\n",
                "        n_estimators=100, \n",
                "        max_depth=50, \n",
                "        min_samples_split=18, \n",
                "        min_samples_leaf=3, \n",
                "        max_features='log2', \n",
                "        random_state=62\n",
                "    )\n",
                "\n",
                "rfr.fit(X_train, y_train)\n",
                "    \n",
                "# Hacer predicciones en el conjunto de prueba\n",
                "y_pred = rfr.predict(X_test)\n",
                "    \n",
                "# Evaluar el rendimiento del modelo\n",
                "mse = mean_squared_error(y_test, y_pred)\n",
                "mae = mean_absolute_error(y_test, y_pred)\n",
                "print(f\"MSE: {mse}\")\n",
                "print(f\"MAE: {mae}\")"
            ]
        },
        {
            "cell_type": "code",
            "execution_count": null,
            "metadata": {},
            "outputs": [],
            "source": [
                "from pickle import dump\n",
                "dump(model, open(\"RandomForestRegressor_tweaked_62.sav\", \"wb\"))"
            ]
        }
    ],
    "metadata": {
        "kernelspec": {
            "display_name": "Python 3.8.13 64-bit ('3.8.13')",
            "language": "python",
            "name": "python3"
        },
        "language_info": {
            "codemirror_mode": {
                "name": "ipython",
                "version": 3
            },
            "file_extension": ".py",
            "mimetype": "text/x-python",
            "name": "python",
            "nbconvert_exporter": "python",
            "pygments_lexer": "ipython3",
            "version": "3.10.12"
        },
        "orig_nbformat": 4,
        "vscode": {
            "interpreter": {
                "hash": "110cc1dee26208153f2972f08a2ad52b6a56238dc66d48e87fb757ef2996db56"
            }
        }
    },
    "nbformat": 4,
    "nbformat_minor": 2
}
